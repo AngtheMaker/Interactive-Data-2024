{
 "cells": [
  {
   "cell_type": "code",
   "execution_count": 3,
   "id": "45c68293-787a-4d3a-b445-4521104188ae",
   "metadata": {},
   "outputs": [],
   "source": [
    "import pandas as pd"
   ]
  },
  {
   "cell_type": "code",
   "execution_count": 4,
   "id": "9d829754-8242-4ddf-be5e-8abe82d02cf2",
   "metadata": {},
   "outputs": [
    {
     "data": {
      "text/html": [
       "<div>\n",
       "<style scoped>\n",
       "    .dataframe tbody tr th:only-of-type {\n",
       "        vertical-align: middle;\n",
       "    }\n",
       "\n",
       "    .dataframe tbody tr th {\n",
       "        vertical-align: top;\n",
       "    }\n",
       "\n",
       "    .dataframe thead th {\n",
       "        text-align: right;\n",
       "    }\n",
       "</style>\n",
       "<table border=\"1\" class=\"dataframe\">\n",
       "  <thead>\n",
       "    <tr style=\"text-align: right;\">\n",
       "      <th></th>\n",
       "      <th>a</th>\n",
       "      <th>b</th>\n",
       "    </tr>\n",
       "  </thead>\n",
       "  <tbody>\n",
       "    <tr>\n",
       "      <th>0</th>\n",
       "      <td>1</td>\n",
       "      <td>apples</td>\n",
       "    </tr>\n",
       "    <tr>\n",
       "      <th>1</th>\n",
       "      <td>2</td>\n",
       "      <td>oranges</td>\n",
       "    </tr>\n",
       "    <tr>\n",
       "      <th>2</th>\n",
       "      <td>3</td>\n",
       "      <td>bananas</td>\n",
       "    </tr>\n",
       "  </tbody>\n",
       "</table>\n",
       "</div>"
      ],
      "text/plain": [
       "   a        b\n",
       "0  1   apples\n",
       "1  2  oranges\n",
       "2  3  bananas"
      ]
     },
     "execution_count": 4,
     "metadata": {},
     "output_type": "execute_result"
    }
   ],
   "source": [
    "my_data = {'a': [1, 2, 3],\n",
    "'b': ['apples', 'oranges', 'bananas']}\n",
    "my_df = pd.DataFrame(my_data)\n",
    "my_df.head()"
   ]
  },
  {
   "cell_type": "code",
   "execution_count": 5,
   "id": "9f80b2b4-d20a-49e2-8275-d159d428d020",
   "metadata": {},
   "outputs": [
    {
     "data": {
      "text/html": [
       "<div>\n",
       "<style scoped>\n",
       "    .dataframe tbody tr th:only-of-type {\n",
       "        vertical-align: middle;\n",
       "    }\n",
       "\n",
       "    .dataframe tbody tr th {\n",
       "        vertical-align: top;\n",
       "    }\n",
       "\n",
       "    .dataframe thead th {\n",
       "        text-align: right;\n",
       "    }\n",
       "</style>\n",
       "<table border=\"1\" class=\"dataframe\">\n",
       "  <thead>\n",
       "    <tr style=\"text-align: right;\">\n",
       "      <th></th>\n",
       "      <th>a</th>\n",
       "      <th>b</th>\n",
       "    </tr>\n",
       "  </thead>\n",
       "  <tbody>\n",
       "    <tr>\n",
       "      <th>2</th>\n",
       "      <td>3</td>\n",
       "      <td>bananas</td>\n",
       "    </tr>\n",
       "  </tbody>\n",
       "</table>\n",
       "</div>"
      ],
      "text/plain": [
       "   a        b\n",
       "2  3  bananas"
      ]
     },
     "execution_count": 5,
     "metadata": {},
     "output_type": "execute_result"
    }
   ],
   "source": [
    "my_df.tail(1)"
   ]
  },
  {
   "cell_type": "code",
   "execution_count": 6,
   "id": "15e646a4-d4b3-4308-9ff2-ec8a40d9a0dd",
   "metadata": {},
   "outputs": [
    {
     "data": {
      "text/html": [
       "<div>\n",
       "<style scoped>\n",
       "    .dataframe tbody tr th:only-of-type {\n",
       "        vertical-align: middle;\n",
       "    }\n",
       "\n",
       "    .dataframe tbody tr th {\n",
       "        vertical-align: top;\n",
       "    }\n",
       "\n",
       "    .dataframe thead th {\n",
       "        text-align: right;\n",
       "    }\n",
       "</style>\n",
       "<table border=\"1\" class=\"dataframe\">\n",
       "  <thead>\n",
       "    <tr style=\"text-align: right;\">\n",
       "      <th></th>\n",
       "      <th>a</th>\n",
       "      <th>b</th>\n",
       "    </tr>\n",
       "  </thead>\n",
       "  <tbody>\n",
       "    <tr>\n",
       "      <th>0</th>\n",
       "      <td>1</td>\n",
       "      <td>apple</td>\n",
       "    </tr>\n",
       "  </tbody>\n",
       "</table>\n",
       "</div>"
      ],
      "text/plain": [
       "   a      b\n",
       "0  1  apple"
      ]
     },
     "execution_count": 6,
     "metadata": {},
     "output_type": "execute_result"
    }
   ],
   "source": [
    "my_data2 = [{'a':1, 'b':'apple'},\n",
    "{'a':2,'b': 'oranges'},\n",
    "{'a':3, 'b': 'bananas'}]\n",
    "my_df2 = pd.DataFrame(my_data2)\n",
    "my_df2.head(1)"
   ]
  },
  {
   "cell_type": "code",
   "execution_count": 7,
   "id": "00d958f4-87d4-4a3a-bc54-9eae41feddaa",
   "metadata": {},
   "outputs": [
    {
     "data": {
      "text/plain": [
       "0    1\n",
       "1    2\n",
       "2    3\n",
       "Name: a, dtype: int64"
      ]
     },
     "execution_count": 7,
     "metadata": {},
     "output_type": "execute_result"
    }
   ],
   "source": [
    "my_df['a']"
   ]
  },
  {
   "cell_type": "code",
   "execution_count": 8,
   "id": "e046a1f1-67bc-4bea-ad8a-20928856983c",
   "metadata": {},
   "outputs": [
    {
     "data": {
      "text/plain": [
       "0     apples\n",
       "1    oranges\n",
       "2    bananas\n",
       "Name: b, dtype: object"
      ]
     },
     "execution_count": 8,
     "metadata": {},
     "output_type": "execute_result"
    }
   ],
   "source": [
    "my_df['b']"
   ]
  },
  {
   "cell_type": "code",
   "execution_count": 9,
   "id": "e4ee8114-182b-4f58-a66d-af841504e130",
   "metadata": {},
   "outputs": [
    {
     "data": {
      "text/plain": [
       "a         1\n",
       "b    apples\n",
       "Name: 0, dtype: object"
      ]
     },
     "execution_count": 9,
     "metadata": {},
     "output_type": "execute_result"
    }
   ],
   "source": [
    "my_df.loc[0]"
   ]
  },
  {
   "cell_type": "code",
   "execution_count": 10,
   "id": "d6f0e4b6-507d-4da3-baa9-032f0da4764d",
   "metadata": {},
   "outputs": [
    {
     "data": {
      "text/plain": [
       "a         1\n",
       "b    apples\n",
       "Name: 0, dtype: object"
      ]
     },
     "execution_count": 10,
     "metadata": {},
     "output_type": "execute_result"
    }
   ],
   "source": [
    "my_df.iloc[0]"
   ]
  },
  {
   "cell_type": "code",
   "execution_count": 11,
   "id": "cc599aeb-2ab6-429b-9527-63c29bbfd05a",
   "metadata": {},
   "outputs": [
    {
     "data": {
      "text/plain": [
       "RangeIndex(start=0, stop=3, step=1)"
      ]
     },
     "execution_count": 11,
     "metadata": {},
     "output_type": "execute_result"
    }
   ],
   "source": [
    "my_df.index"
   ]
  },
  {
   "cell_type": "code",
   "execution_count": 12,
   "id": "f2138529-50a8-4cfe-af8e-def829566b60",
   "metadata": {},
   "outputs": [
    {
     "data": {
      "text/plain": [
       "',a,b\\n0,1,apples\\n1,2,oranges\\n2,3,bananas\\n'"
      ]
     },
     "execution_count": 12,
     "metadata": {},
     "output_type": "execute_result"
    }
   ],
   "source": [
    "my_df.to_csv()"
   ]
  },
  {
   "cell_type": "markdown",
   "id": "6a2bcc51-bb9f-42e0-977b-e284af975c9b",
   "metadata": {},
   "source": [
    "# 1. What does the \"write/render/evaluate\" loop provide for creators of interactive data visualizations?\n",
    "\n",
    "**Answer**: The write/render/evaluate lopp provides creaters with the a ability to see their work from different angles as their working. It allows allows creaters to make changed and anakyze them as they create code to constantly innovate what their working on. It gives creators the ability to apply their hypthesis and thoughts as they work towards the goal of the design their completing. \n",
    "\n",
    "# 2. Why are dynamic, interactive data visualizations useful when communicating data?\n",
    "\n",
    "**Answer**: Dynamic, interactive data inspires curiosity to further their learning and understanding of the information presented. It is also important for making data more legible, giving them time to analyze it, for the range of people it may be utilized by. Interactive data visualizations highlights key points of data, can provide users with additional information, and creates a more peronlaizaed experience. \n",
    "\n",
    "# 3. Do you agree with Murray's claim that open-source tools that avoid proprietary software are best for publishing data visualization? In a few sentences, explain why you do or do not agree.\n",
    "\n",
    "I agree with Murray's claim that open-source tools are often the best choice for publishing data visualizations because the offer a wider audience access to innovation and tools. Open-source tools offer a wider range of flexibility in use and community involvement, which can lead to more customizable in visualizations. They work around barriers that larger and more expensive programs may have like cost. They make it easier to share and modify your work without being tied to proprietary software limitations. Figuring out which program works best for you may change depending on your project needs.\n"
   ]
  },
  {
   "cell_type": "code",
   "execution_count": null,
   "id": "8856a0b8-2af4-4ef9-91d6-6704193b572f",
   "metadata": {},
   "outputs": [],
   "source": []
  }
 ],
 "metadata": {
  "kernelspec": {
   "display_name": "Python 3 (ipykernel)",
   "language": "python",
   "name": "python3"
  },
  "language_info": {
   "codemirror_mode": {
    "name": "ipython",
    "version": 3
   },
   "file_extension": ".py",
   "mimetype": "text/x-python",
   "name": "python",
   "nbconvert_exporter": "python",
   "pygments_lexer": "ipython3",
   "version": "3.12.4"
  }
 },
 "nbformat": 4,
 "nbformat_minor": 5
}
